{
 "cells": [
  {
   "cell_type": "code",
   "execution_count": null,
   "metadata": {},
   "outputs": [],
   "source": [
    "import torch\n",
    "import os\n",
    "from torch.utils.data import TensorDataset,ConcatDataset,DataLoader\n",
    "import matplotlib.pyplot as plt\n",
    "from torch import nn\n",
    "from torch.nn.functional import relu\n",
    "from tqdm import tqdm\n",
    "from sklearn.preprocessing import RobustScaler\n",
    "import seaborn as sns\n",
    "\n",
    "device = 'mps'"
   ]
  },
  {
   "cell_type": "code",
   "execution_count": null,
   "metadata": {},
   "outputs": [],
   "source": [
    "path_to_pt_ekyn = f'../pt_ekyn'\n",
    "\n",
    "recording_filenames = os.listdir(path_to_pt_ekyn)"
   ]
  },
  {
   "cell_type": "code",
   "execution_count": null,
   "metadata": {},
   "outputs": [],
   "source": [
    "X,y = torch.load(f'{path_to_pt_ekyn}/{recording_filenames[0]}')\n",
    "sns.kdeplot(X[torch.where(y.argmax(dim=1) == 1)].std(dim=1));\n",
    "sns.kdeplot(X[torch.where(y.argmax(dim=1) == 2)].std(dim=1));\n",
    "sns.kdeplot(X[torch.where(y.argmax(dim=1) == 0)].std(dim=1));\n",
    "\n",
    "X,y = torch.load(f'{path_to_pt_ekyn}/{recording_filenames[1]}')\n",
    "sns.kdeplot(X[torch.where(y.argmax(dim=1) == 1)].std(dim=1));\n",
    "sns.kdeplot(X[torch.where(y.argmax(dim=1) == 2)].std(dim=1));\n",
    "sns.kdeplot(X[torch.where(y.argmax(dim=1) == 0)].std(dim=1));\n",
    "plt.xlim([0,.0002])"
   ]
  },
  {
   "cell_type": "code",
   "execution_count": null,
   "metadata": {},
   "outputs": [],
   "source": [
    "print(X.shape)\n",
    "ln = nn.LayerNorm(normalized_shape=5000,eps=1e-5)\n",
    "ln.requires_grad_(False)\n",
    "def my_layernorm(X):\n",
    "    return (X - X.mean(dim=-1,keepdim=True))/((X.var(dim=-1,keepdim=True) + 1e-5).sqrt())\n",
    "\n",
    "X_ln = ln(X)\n",
    "X_myln = ln(X)\n",
    "print(X_ln[:5, :5])\n",
    "print(X_myln[:5, :5])"
   ]
  },
  {
   "cell_type": "code",
   "execution_count": null,
   "metadata": {},
   "outputs": [],
   "source": [
    "fig,axes = plt.subplots(ncols=1,nrows=2,figsize=(10,5))\n",
    "\n",
    "axes[0].plot(X[0])\n",
    "axes[1].plot(X_ln[0])\n",
    "axes[1].plot(X_myln[0])"
   ]
  },
  {
   "cell_type": "code",
   "execution_count": null,
   "metadata": {},
   "outputs": [],
   "source": [
    "X.mean(-1).shape"
   ]
  }
 ],
 "metadata": {
  "kernelspec": {
   "display_name": "Python 3",
   "language": "python",
   "name": "python3"
  },
  "language_info": {
   "codemirror_mode": {
    "name": "ipython",
    "version": 3
   },
   "file_extension": ".py",
   "mimetype": "text/x-python",
   "name": "python",
   "nbconvert_exporter": "python",
   "pygments_lexer": "ipython3",
   "version": "3.10.12"
  }
 },
 "nbformat": 4,
 "nbformat_minor": 2
}
