{
 "cells": [
  {
   "cell_type": "code",
   "execution_count": 1,
   "metadata": {},
   "outputs": [],
   "source": [
    "import torch\n",
    "import os\n",
    "from torch.utils.data import TensorDataset,ConcatDataset,DataLoader,WeightedRandomSampler\n",
    "import matplotlib.pyplot as plt\n",
    "from torch import nn\n",
    "from torch.nn.functional import relu\n",
    "from tqdm import tqdm\n",
    "import seaborn as sns\n",
    "from sklearn.metrics import ConfusionMatrixDisplay,classification_report\n",
    "from sklearn.model_selection import train_test_split\n",
    "\n",
    "device = 'mps'\n",
    "path_to_pt_ekyn = f'../../sleep/pt_ekyn'"
   ]
  },
  {
   "cell_type": "code",
   "execution_count": 2,
   "metadata": {},
   "outputs": [
    {
     "name": "stdout",
     "output_type": "stream",
     "text": [
      "C4-0_PF.pt\n",
      "torch.Size([512, 1, 500]) torch.Size([512, 3]) tensor([ 26, 254, 232])\n",
      "torch.Size([512, 1, 500]) torch.Size([512, 3]) tensor([ 35, 241, 236])\n"
     ]
    }
   ],
   "source": [
    "recording_filenames = os.listdir(path_to_pt_ekyn)\n",
    "id = recording_filenames[0]\n",
    "print(id)\n",
    "X,y = torch.load(f'{path_to_pt_ekyn}/{id}')\n",
    "\n",
    "X = X.unsqueeze(1)\n",
    "X = X[:,:,::10] # 500 Hz -> 50 Hz\n",
    "\n",
    "X_train,X_test,y_train,y_test = train_test_split(X,y,test_size=.2,shuffle=True,stratify=y)\n",
    "trainloader = DataLoader(TensorDataset(X_train,y_train),batch_size=512,shuffle=True)\n",
    "testloader = DataLoader(TensorDataset(X_test,y_test),batch_size=512,shuffle=True)\n",
    "\n",
    "Xi,yi = next(iter(trainloader))\n",
    "print(Xi.shape,yi.shape,yi.argmax(dim=1).bincount())\n",
    "\n",
    "Xi,yi = next(iter(testloader))\n",
    "print(Xi.shape,yi.shape,yi.argmax(dim=1).bincount())"
   ]
  },
  {
   "cell_type": "code",
   "execution_count": null,
   "metadata": {},
   "outputs": [],
   "source": [
    "class SimpleNorm(nn.Module):\n",
    "    def __init__(self,eps):\n",
    "        super().__init__()\n",
    "        self.eps = eps\n",
    "        self.scale = nn.Parameter(torch.tensor(1.0))\n",
    "        self.shift = nn.Parameter(torch.tensor(0.0))\n",
    "    def forward(self,x):\n",
    "        mean = x.flatten().mean()\n",
    "        std = x.flatten().std()\n",
    "        x = (x - mean) / (std + self.eps)\n",
    "        return x * self.scale + self.shift\n",
    "    \n",
    "class CNNSleepStager(nn.Module):\n",
    "    def __init__(self, *args, **kwargs):\n",
    "        super().__init__(*args, **kwargs)\n",
    "        self.norm = SimpleNorm(1e-5)\n",
    "        self.c1 = nn.Conv1d(in_channels=1,out_channels=64,kernel_size=7)\n",
    "\n",
    "        self.mp = nn.MaxPool1d()\n",
    "        self.gap = nn.AdaptiveAvgPool1d(1)\n",
    "        self.classifier = nn.Linear(in_features=128,out_features=3)\n",
    "    def forward(self,x):\n",
    "        x = self.norm(x)\n",
    "        x = self.c1(x)\n",
    "        x = relu(x)\n",
    "        x = self.gap(x)\n",
    "        x = x.squeeze()\n",
    "        x = self.classifier(x)\n",
    "        return x\n",
    "    \n",
    "model = CNNSleepStager()\n",
    "optimizer = torch.optim.AdamW(model.parameters(),lr=3e-3)\n",
    "criterion = nn.CrossEntropyLoss()\n",
    "model.to(device)"
   ]
  },
  {
   "cell_type": "code",
   "execution_count": null,
   "metadata": {},
   "outputs": [],
   "source": [
    "import numpy as np\n",
    "window_size = 10\n",
    "def moving_average(data, window_size=10):\n",
    "    \"\"\"Compute the moving average of a list.\"\"\"\n",
    "    return np.convolve(data, np.ones(window_size), 'valid') / window_size\n",
    "\n",
    "colors = {\n",
    "    'Train': '#007AFF',  # Apple Blue\n",
    "    'Test': '#FF9500'    # Apple Orange\n",
    "}\n",
    "\n",
    "trainlossi = []\n",
    "testlossi = []\n",
    "\n",
    "validation_frequency_epochs = 20\n",
    "\n",
    "for epoch in tqdm(range(5000)):\n",
    "    for Xi,yi in trainloader:\n",
    "        Xi,yi = Xi.to(device),yi.to(device)\n",
    "        optimizer.zero_grad()\n",
    "        logits = model(Xi)\n",
    "        loss = criterion(logits,yi)\n",
    "        loss.backward()\n",
    "        optimizer.step()\n",
    "        trainlossi.append(loss.item())\n",
    "\n",
    "    if epoch % validation_frequency_epochs == 0:\n",
    "        # Calculate Test Loss\n",
    "        with torch.no_grad():\n",
    "            testlossi.append(torch.hstack([criterion(model(Xi.to(device)),yi.to(device)).cpu() for Xi,yi in testloader]).mean().item())\n",
    "\n",
    "        # Plot Loss\n",
    "        plt.figure()\n",
    "\n",
    "        # First subplot - Loss\n",
    "        plt.plot(trainlossi, label='Train Loss', color=colors['Train'], alpha=0.4, linewidth=1.5)\n",
    "        \n",
    "        # Moving average for loss\n",
    "        if len(trainlossi) > window_size:\n",
    "            plt.plot(range(window_size-1, len(trainlossi)), moving_average(trainlossi, window_size), label='Train Loss MA', color=colors['Train'], linestyle='--', linewidth=1.5)\n",
    "\n",
    "        plt.plot(torch.linspace(0,len(trainlossi),len(testlossi)),testlossi, label='Test Loss', color=colors['Test'], alpha=1, linewidth=1.5)\n",
    "        plt.savefig('loss.jpg')\n",
    "        plt.close()"
   ]
  },
  {
   "cell_type": "code",
   "execution_count": null,
   "metadata": {},
   "outputs": [],
   "source": [
    "# Plot Loss\n",
    "plt.figure()\n",
    "\n",
    "# First subplot - Loss\n",
    "plt.plot(trainlossi, label='Train Loss', color=colors['Train'], alpha=0.4, linewidth=1.5)\n",
    "\n",
    "# Moving average for loss\n",
    "if len(trainlossi) > window_size:\n",
    "    plt.plot(range(window_size-1, len(trainlossi)), moving_average(trainlossi, window_size), label='Train Loss MA', color=colors['Train'], linestyle='--', linewidth=1.5)\n",
    "\n",
    "plt.plot(torch.linspace(0,len(trainlossi),len(testlossi)),testlossi, label='Test Loss', color=colors['Test'], alpha=1, linewidth=1.5)"
   ]
  },
  {
   "cell_type": "code",
   "execution_count": null,
   "metadata": {},
   "outputs": [],
   "source": [
    "y = torch.vstack([torch.vstack([model(Xi.to(device)).softmax(dim=1).argmax(dim=1).cpu(),yi.argmax(dim=1)]).T for Xi,yi in trainloader])\n",
    "y_pred = y[:,0]\n",
    "y_true = y[:,1]\n",
    "print(classification_report(y_true=y_true,y_pred=y_pred))\n",
    "\n",
    "y = torch.vstack([torch.vstack([model(Xi.to(device)).softmax(dim=1).argmax(dim=1).cpu(),yi.argmax(dim=1)]).T for Xi,yi in testloader])\n",
    "y_pred = y[:,0]\n",
    "y_true = y[:,1]\n",
    "print(classification_report(y_true=y_true,y_pred=y_pred))"
   ]
  }
 ],
 "metadata": {
  "kernelspec": {
   "display_name": "Python 3",
   "language": "python",
   "name": "python3"
  },
  "language_info": {
   "codemirror_mode": {
    "name": "ipython",
    "version": 3
   },
   "file_extension": ".py",
   "mimetype": "text/x-python",
   "name": "python",
   "nbconvert_exporter": "python",
   "pygments_lexer": "ipython3",
   "version": "3.12.9"
  }
 },
 "nbformat": 4,
 "nbformat_minor": 2
}
