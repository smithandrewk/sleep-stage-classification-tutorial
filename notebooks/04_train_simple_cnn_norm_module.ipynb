{
 "cells": [
  {
   "cell_type": "code",
   "execution_count": null,
   "metadata": {},
   "outputs": [],
   "source": [
    "import torch\n",
    "import os\n",
    "from torch.utils.data import TensorDataset,ConcatDataset,DataLoader\n",
    "import matplotlib.pyplot as plt\n",
    "from torch import nn\n",
    "from torch.nn.functional import relu\n",
    "from tqdm import tqdm\n",
    "import seaborn as sns\n",
    "\n",
    "device = 'mps'\n",
    "path_to_pt_ekyn = f'../../sleep/pt_ekyn'"
   ]
  },
  {
   "cell_type": "code",
   "execution_count": null,
   "metadata": {},
   "outputs": [],
   "source": [
    "recording_filenames = os.listdir(path_to_pt_ekyn)\n",
    "id = recording_filenames[0]\n",
    "print(id)\n",
    "X,y = torch.load(f'{path_to_pt_ekyn}/{id}')\n",
    "\n",
    "X = X.unsqueeze(1)\n",
    "X = X[:,:,::10] # 500 Hz -> 50 Hz\n",
    "\n",
    "dataloader = DataLoader(TensorDataset(X,y),batch_size=512,shuffle=True)\n",
    "Xi,yi = next(iter(dataloader))\n",
    "print(Xi.shape,yi.shape)"
   ]
  },
  {
   "cell_type": "code",
   "execution_count": null,
   "metadata": {},
   "outputs": [],
   "source": [
    "class SimpleNorm(nn.Module):\n",
    "    def __init__(self,eps):\n",
    "        super().__init__()\n",
    "        self.eps = eps\n",
    "        self.scale = nn.Parameter(torch.tensor(1.0))\n",
    "        self.shift = nn.Parameter(torch.tensor(0.0))\n",
    "    def forward(self,x):\n",
    "        mean = x.flatten().mean()\n",
    "        std = x.flatten().std()\n",
    "        x = (x - mean) / (std + self.eps)\n",
    "        return x * self.scale + self.shift\n",
    "    \n",
    "class CNNSleepStager(nn.Module):\n",
    "    def __init__(self, *args, **kwargs):\n",
    "        super().__init__(*args, **kwargs)\n",
    "        self.norm = SimpleNorm(1e-5)\n",
    "        self.c1 = nn.Conv1d(in_channels=1,out_channels=64,kernel_size=7)\n",
    "        self.gap = nn.AdaptiveAvgPool1d(1)\n",
    "        self.classifier = nn.Linear(in_features=64,out_features=3)\n",
    "    def forward(self,x):\n",
    "        x = self.norm(x)\n",
    "        x = self.c1(x)\n",
    "        x = relu(x)\n",
    "        x = self.gap(x)\n",
    "        x = x.squeeze()\n",
    "        x = self.classifier(x)\n",
    "        return x\n",
    "    \n",
    "model = CNNSleepStager()\n",
    "optimizer = torch.optim.AdamW(model.parameters(),lr=3e-4)\n",
    "criterion = nn.CrossEntropyLoss()\n",
    "model.to(device)"
   ]
  },
  {
   "cell_type": "code",
   "execution_count": null,
   "metadata": {},
   "outputs": [],
   "source": [
    "lossi = []\n",
    "\n",
    "for epoch in tqdm(range(200)):\n",
    "    for Xi,yi in dataloader:\n",
    "        Xi,yi = Xi.to(device),yi.to(device)\n",
    "        optimizer.zero_grad()\n",
    "        logits = model(Xi)\n",
    "        loss = criterion(logits,yi)\n",
    "        loss.backward()\n",
    "        optimizer.step()\n",
    "        lossi.append(loss.item())\n",
    "plt.plot(lossi)"
   ]
  }
 ],
 "metadata": {
  "kernelspec": {
   "display_name": "Python 3",
   "language": "python",
   "name": "python3"
  },
  "language_info": {
   "codemirror_mode": {
    "name": "ipython",
    "version": 3
   },
   "file_extension": ".py",
   "mimetype": "text/x-python",
   "name": "python",
   "nbconvert_exporter": "python",
   "pygments_lexer": "ipython3",
   "version": "3.12.9"
  }
 },
 "nbformat": 4,
 "nbformat_minor": 2
}
